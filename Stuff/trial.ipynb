{
 "cells": [
  {
   "cell_type": "code",
   "execution_count": 43,
   "id": "88fe4d3a",
   "metadata": {},
   "outputs": [],
   "source": [
    "import warnings\n",
    "warnings.filterwarnings(\"ignore\", message=\"'pin_memory' argument is set as true\")"
   ]
  },
  {
   "cell_type": "code",
   "execution_count": 44,
   "id": "a7531bb9",
   "metadata": {},
   "outputs": [],
   "source": [
    "from docling.document_converter import DocumentConverter\n",
    "from docling.chunking import HybridChunker\n",
    "from colorama import Fore "
   ]
  },
  {
   "cell_type": "code",
   "execution_count": 53,
   "id": "1da89005",
   "metadata": {},
   "outputs": [],
   "source": [
    "import json\n",
    "from typing import List \n",
    "from pydantic import BaseModel\n",
    "from litellm import completion\n",
    "from short_prompt import prompt_template"
   ]
  },
  {
   "cell_type": "code",
   "execution_count": 58,
   "id": "6a83f88e",
   "metadata": {},
   "outputs": [],
   "source": [
    "converter = DocumentConverter()\n",
    "doc = converter.convert(\"Federer.pdf\").document\n",
    "chunker = HybridChunker()\n",
    "chunks = chunker.chunk(doc)"
   ]
  },
  {
   "cell_type": "code",
   "execution_count": 47,
   "id": "dfe94f5f",
   "metadata": {},
   "outputs": [],
   "source": [
    "class Record(BaseModel):\n",
    "    question: str\n",
    "    answer : str\n",
    "\n",
    "class Response(BaseModel):\n",
    "    generated: List[Record]"
   ]
  },
  {
   "cell_type": "code",
   "execution_count": null,
   "id": "b717d8fa",
   "metadata": {},
   "outputs": [],
   "source": [
    "# def llm_call(data: str, num_records: int = 5) -> dict:\n",
    "#     stream = completion(\n",
    "#         model = \"ollama_chat/llama3:latest\",\n",
    "#         messages = [\n",
    "#             {\n",
    "#                 \"role\":\"user\",\n",
    "#                 \"content\": prompt_template(data, num_records),\n",
    "#             }\n",
    "#         ],\n",
    "#         stream=True,\n",
    "#         options={\"num_predict\": 2000 },\n",
    "#         format = Response.model_json_schema()\n",
    "#     )\n",
    "#     for x in stream:\n",
    "#         delta = x['choices'][0][\"delta\"][\"content\"]\n",
    "#         if delta is not None:\n",
    "#             print(Fore.LIGHTBLUE_EX + delta + Fore.RESET, end=\"\")\n",
    "#             data+=delta\n",
    "    \n",
    "#     return json.loads(data)"
   ]
  },
  {
   "cell_type": "code",
   "execution_count": 54,
   "id": "72709167",
   "metadata": {},
   "outputs": [],
   "source": [
    "def llm_call(data: str, num_records: int = 3) -> dict:\n",
    "    stream = completion(\n",
    "        model=\"ollama_chat/phi3-mini:latest\",\n",
    "        messages=[\n",
    "            {\n",
    "                \"role\": \"user\",\n",
    "                \"content\": prompt_template(data, num_records),\n",
    "            }\n",
    "        ],\n",
    "        stream=True,\n",
    "        options={\"num_predict\": 2000},\n",
    "        format=Response.model_json_schema()\n",
    "    )\n",
    "\n",
    "    response_data = \"\"  # accumulator for streamed output\n",
    "    for x in stream:\n",
    "        delta = x['choices'][0][\"delta\"][\"content\"]\n",
    "        if delta is not None:\n",
    "            print(Fore.LIGHTBLUE_EX + delta + Fore.RESET, end=\"\")\n",
    "            response_data += delta  # accumulate the streamed chunks\n",
    "\n",
    "    # Now response_data should be a complete JSON string\n",
    "    return json.loads(response_data)\n"
   ]
  },
  {
   "cell_type": "code",
   "execution_count": 63,
   "id": "8c97ff79",
   "metadata": {},
   "outputs": [],
   "source": [
    "# example_data_chunk = \"\"\"\n",
    "# Roger Federer, born 8 August 1981) is a Swiss former professional tennis player. He was ranked as the world No. 1 in men's singles by the Association of Tennis Professionals (ATP) for 310 weeks (second-most of all time), including a record 237 consecutive weeks, and finished as the year-end No. 1 five times. Federer won 103 singles titles on the ATP Tour, the second most since the start of the Open Era in 1968, including 20 major men's singles titles (among which a record eight men's singles Wimbledon titles, and an Open Era joint-record five men's singles US Open titles) and six year-end championships.\n",
    "\n",
    "# \"\"\""
   ]
  },
  {
   "cell_type": "code",
   "execution_count": 64,
   "id": "49cf1a29",
   "metadata": {},
   "outputs": [],
   "source": [
    "# llm_call(example_data_chunk)"
   ]
  },
  {
   "cell_type": "code",
   "execution_count": 65,
   "id": "9ea0dddb",
   "metadata": {},
   "outputs": [],
   "source": [
    "\n",
    "\n",
    "\n",
    "dataset = {}\n",
    "\n",
    "for i, chunk in enumerate(chunks):\n",
    "    # print(Fore.YELLOW + f\"Raw Tesxt: \\n{chunk.text[:300]}...\" + Fore.RESET)\n",
    "    enriched_text = chunker.contextualize(chunk=chunk)\n",
    "    # print(Fore.LIGHTMAGENTA_EX + f\"Contextualized Text: \\n{enriched_text[:300]}...\" + Fore.RESET)\n",
    "    data = llm_call(\n",
    "        enriched_text\n",
    "    )\n",
    "    # dataset[i] = {\"generated\":data[\"generated\"], \"context\":enriched_text}\n"
   ]
  },
  {
   "cell_type": "code",
   "execution_count": 62,
   "id": "c4c0d345",
   "metadata": {},
   "outputs": [],
   "source": [
    "instructions = []\n",
    "for key, chunk in dataset.items():\n",
    "    for pairs in chunk['generated']:\n",
    "        instructions.append(pairs)\n",
    "\n",
    "with open('instruction_short_2.json', 'w') as f:\n",
    "    json.dump(instructions, f)\n"
   ]
  }
 ],
 "metadata": {
  "kernelspec": {
   "display_name": "project1",
   "language": "python",
   "name": "python3"
  },
  "language_info": {
   "codemirror_mode": {
    "name": "ipython",
    "version": 3
   },
   "file_extension": ".py",
   "mimetype": "text/x-python",
   "name": "python",
   "nbconvert_exporter": "python",
   "pygments_lexer": "ipython3",
   "version": "3.11.5"
  }
 },
 "nbformat": 4,
 "nbformat_minor": 5
}
