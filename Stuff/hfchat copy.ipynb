{
 "cells": [
  {
   "cell_type": "code",
   "execution_count": 13,
   "id": "36f65d37",
   "metadata": {},
   "outputs": [],
   "source": [
    "from huggingface_hub import login\n",
    "from transformers import AutoModelForSeq2SeqLM, AutoModelForCausalLM, AutoTokenizer, pipeline\n",
    "import torch \n",
    "import hf_xet"
   ]
  },
  {
   "cell_type": "code",
   "execution_count": 1,
   "id": "c7a89891",
   "metadata": {},
   "outputs": [
    {
     "ename": "NameError",
     "evalue": "name 'login' is not defined",
     "output_type": "error",
     "traceback": [
      "\u001b[31m---------------------------------------------------------------------------\u001b[39m",
      "\u001b[31mNameError\u001b[39m                                 Traceback (most recent call last)",
      "\u001b[36mCell\u001b[39m\u001b[36m \u001b[39m\u001b[32mIn[1]\u001b[39m\u001b[32m, line 1\u001b[39m\n\u001b[32m----> \u001b[39m\u001b[32m1\u001b[39m \u001b[43mlogin\u001b[49m(\u001b[33m\"\u001b[39m\u001b[33mUSERNAME\u001b[39m\u001b[33m\"\u001b[39m)\n\u001b[32m      2\u001b[39m model_name = \u001b[33m\"\u001b[39m\u001b[33mgoogle/flan-t5-small\u001b[39m\u001b[33m\"\u001b[39m\n\u001b[32m      3\u001b[39m tokenizer = AutoTokenizer.from_pretrained(model_name)\n",
      "\u001b[31mNameError\u001b[39m: name 'login' is not defined"
     ]
    }
   ],
   "source": [
    "login(\"USERNAME\")\n",
    "model_name = \"google/flan-t5-small\"\n",
    "tokenizer = AutoTokenizer.from_pretrained(model_name)\n",
    "\n",
    "model = AutoModelForSeq2SeqLM.from_pretrained(\n",
    "    model_name\n",
    ")\n",
    "\n",
    "# flan_pipe = pipeline(\"text2text-generation\", model=model, tokenizer=tokenizer)\n",
    "\n",
    "# generator = pipeline(\n",
    "#     \"text-generation\",\n",
    "#     model=model,\n",
    "#     tokenizer=tokenizer,\n",
    "#     device_map=\"auto\"\n",
    "# )\n",
    "\n",
    "def generate_response(prompt, max_new_tokens=50, temperature=0.7):\n",
    "    inputs = tokenizer(prompt, return_tensors=\"pt\")\n",
    "    outputs = model.generate(\n",
    "        **inputs,\n",
    "        max_new_tokens=max_new_tokens,\n",
    "        do_sample=True,\n",
    "        temperature=temperature\n",
    "    )\n",
    "    return tokenizer.decode(outputs[0], skip_special_tokens=True)"
   ]
  },
  {
   "cell_type": "code",
   "execution_count": 15,
   "id": "9396cd50",
   "metadata": {},
   "outputs": [],
   "source": [
    "\n",
    "# prompt = \"\"\"The following is a conversation between a human and an AI assistant. \n",
    "# The assistant gives short, direct, factual answers.\n",
    "\n",
    "# Human: How are you?.\n",
    "# AI:\"\"\"\n",
    "\n",
    "# response = generator(\n",
    "#     prompt,\n",
    "#     max_new_tokens=200,        # Limit output length\n",
    "#     temperature=0.7,           # Creativity level\n",
    "#     top_p=0.9,\n",
    "#     repetition_penalty=1.1,\n",
    "#     do_sample=True\n",
    "# )\n",
    "\n",
    "# print(response[0]['generated_text'])\n"
   ]
  },
  {
   "cell_type": "code",
   "execution_count": 49,
   "id": "4d18bfed",
   "metadata": {},
   "outputs": [
    {
     "data": {
      "text/plain": [
       "'You get 2 to 1'"
      ]
     },
     "execution_count": 49,
     "metadata": {},
     "output_type": "execute_result"
    }
   ],
   "source": [
    "prompt = \"What do you get when you add 1 to 1\"\n",
    "generate_response(prompt=prompt)\n"
   ]
  }
 ],
 "metadata": {
  "kernelspec": {
   "display_name": "project1",
   "language": "python",
   "name": "python3"
  },
  "language_info": {
   "codemirror_mode": {
    "name": "ipython",
    "version": 3
   },
   "file_extension": ".py",
   "mimetype": "text/x-python",
   "name": "python",
   "nbconvert_exporter": "python",
   "pygments_lexer": "ipython3",
   "version": "3.11.5"
  }
 },
 "nbformat": 4,
 "nbformat_minor": 5
}
